{
 "cells": [
  {
   "cell_type": "code",
   "execution_count": 12,
   "id": "3dfe5206-baa8-4673-99de-eb0e8ce52d0a",
   "metadata": {},
   "outputs": [],
   "source": [
    "import cv2\n",
    "# pip install opencv-contrib-python --user\n",
    "# https://stackoverflow.com/questions/64278198/error-can-not-p|erform-a-user-install-user-site-packages-are-not-visible-in"
   ]
  },
  {
   "cell_type": "code",
   "execution_count": 13,
   "id": "7985b7a2-f7a3-4de7-be89-f2bcbbea775c",
   "metadata": {},
   "outputs": [],
   "source": [
    "cap = cv2.VideoCapture(0)\n",
    "\n",
    "tracker = cv2.legacy.TrackerMOSSE_create()\n",
    "# tracker = cv2.TrackerCSRT_create()\n",
    "success, img = cap.read()\n",
    "bbox = cv2.selectROI(\"Tracking\", img, False)\n",
    "tracker.init(img, bbox)\n",
    "\n",
    "def drawBox(img, bbox):\n",
    "    x, y, w, h = int(bbox[0]), int(bbox[1]), int(bbox[2]), int(bbox[3]) \n",
    "    cv2.rectangle(img, (x, y), ((x+w), (y+h)), (255, 0, 255), 3, 1)\n",
    "    cv2.putText(img, \"Tracking\", (75, 75), cv2.FONT_HERSHEY_SIMPLEX, 0.7, (0, 255, 0), 2)\n",
    "\n",
    "while True:\n",
    "    timer = cv2.getTickCount()\n",
    "    success, img = cap.read()\n",
    "\n",
    "    success, bbox = tracker.update(img)\n",
    "\n",
    "    if success:\n",
    "        drawBox(img, bbox)\n",
    "    else:\n",
    "        cv2.putText(img, \"Lost\", (75, 75), cv2.FONT_HERSHEY_SIMPLEX, 0.7, (0, 0, 255), 2)\n",
    "\n",
    "        \n",
    "    fps = cv2.getTickFrequency()/(cv2.getTickCount()-timer)\n",
    "    cv2.putText(img, str(int(fps)), (75, 50), cv2.FONT_HERSHEY_SIMPLEX, 0.7, (0, 0, 255), 2)\n",
    "    cv2.imshow(\"Tracking\", img)\n",
    "\n",
    "    # if cv2.waitKey(1) & 0xff ==  ord('q'):\n",
    "    #     break\n",
    "    k = cv2.waitKey(1)\n",
    "    \n",
    "    if k%256 == 27:\n",
    "        # ESC pressed\n",
    "        #K in multiples of 27 means the escape key was pressed\n",
    "        break\n",
    "    elif k%256 == 32:\n",
    "        # SPACE pressed\n",
    "        #K in multiples of 32 means the space bar was pressed\n",
    "        img_name = \"image_data/user_images/{}\".format(file_name)\n",
    "        cv2.imwrite(img_name, frame)\n",
    "        img_counter += 1\n",
    "        break\n",
    "#Closes the camera and window\n",
    "cap.release()\n",
    "cv2.destroyAllWindows()\n"
   ]
  },
  {
   "cell_type": "code",
   "execution_count": null,
   "id": "959cf950-6f57-4329-b7c2-fb2c136fcbd0",
   "metadata": {},
   "outputs": [],
   "source": []
  }
 ],
 "metadata": {
  "kernelspec": {
   "display_name": "Python 3 (ipykernel)",
   "language": "python",
   "name": "python3"
  },
  "language_info": {
   "codemirror_mode": {
    "name": "ipython",
    "version": 3
   },
   "file_extension": ".py",
   "mimetype": "text/x-python",
   "name": "python",
   "nbconvert_exporter": "python",
   "pygments_lexer": "ipython3",
   "version": "3.12.2"
  }
 },
 "nbformat": 4,
 "nbformat_minor": 5
}
